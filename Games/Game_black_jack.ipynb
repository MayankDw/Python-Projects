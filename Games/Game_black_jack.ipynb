{
 "cells": [
  {
   "cell_type": "markdown",
   "metadata": {},
   "source": [
    "## Game - Black Jack"
   ]
  },
  {
   "cell_type": "code",
   "execution_count": 1,
   "metadata": {},
   "outputs": [],
   "source": [
    "## Game Black Jack\n",
    "\n",
    "# We have one player playing with dealer and wil follow most of the rules of Black Jack\n",
    "# Bet will start with initial chips on hand. \n",
    "# When 21 number is reached winner is announced\n",
    "# Ace can be counted according to choice of 1 vs 10"
   ]
  },
  {
   "cell_type": "code",
   "execution_count": null,
   "metadata": {},
   "outputs": [],
   "source": []
  },
  {
   "cell_type": "code",
   "execution_count": 2,
   "metadata": {},
   "outputs": [],
   "source": [
    "## First we will have number of cards on hand\n",
    "## Card class"
   ]
  },
  {
   "cell_type": "code",
   "execution_count": 3,
   "metadata": {},
   "outputs": [],
   "source": [
    "class Card():\n",
    "    \n",
    "    def __init__(self):\n",
    "        suit = ['Heart','Diamond', 'Spade','Club']\n",
    "        rank = ['1', '2', '3', '4', '5', '6', '7', '8', '9', '10', 'ACE', 'KING', 'QUEEN', 'JACK']\n",
    "        face_value = {'1':1, '2':2, '3':3, '4':4, '5':5, '6':6, '7':7, '8':8, '9':9, \n",
    "                      '10':10, 'ACE':'ACE','ACE1':1, 'ACE10':10, 'KING':10, 'QUEEN':10, 'JACK':10}\n",
    "        \n",
    "        self.suit = suit\n",
    "        self.rank = rank\n",
    "        self.face_value = face_value\n",
    "        \n",
    "    def __str__(self, card_face):\n",
    "        return f'The value card {card_face} is {self.face_value[card_face]}'\n",
    "    "
   ]
  },
  {
   "cell_type": "code",
   "execution_count": 5,
   "metadata": {},
   "outputs": [],
   "source": [
    "## Form a deck and shuffle or deal for players"
   ]
  },
  {
   "cell_type": "code",
   "execution_count": 6,
   "metadata": {},
   "outputs": [],
   "source": [
    "import random\n",
    "\n",
    "class Deck(Card):\n",
    "    \n",
    "    def __init__(self):\n",
    "        Card.__init__(self)\n",
    "        \n",
    "        total_cards = []\n",
    "        self.total_cards = total_cards\n",
    "        \n",
    "        for i in self.suit:\n",
    "            for j in self.rank:\n",
    "                self.total_cards.append(i+'-'+j)\n",
    "                \n",
    "    def shuffle(self):\n",
    "        random.shuffle(self.total_cards)\n",
    "        \n",
    "    def deal(self):\n",
    "        popped_card = self.total_cards.pop(0)\n",
    "        self.popped_card = popped_card\n",
    "        return self.popped_card\n",
    "        \n",
    "    def display(self):\n",
    "        print(self.popped_card)\n",
    "        "
   ]
  },
  {
   "cell_type": "code",
   "execution_count": 7,
   "metadata": {},
   "outputs": [],
   "source": [
    "## Hand class to have information about players hand"
   ]
  },
  {
   "cell_type": "code",
   "execution_count": 8,
   "metadata": {},
   "outputs": [],
   "source": [
    "class Hand(Deck):\n",
    "    \n",
    "    def __init__(self):\n",
    "        Deck.__init__(self)\n",
    "        Deck.shuffle(self)\n",
    "        Deck.deal(self)\n",
    "        \n",
    "        hand_card = self.popped_card\n",
    "        self.hand_card = hand_card\n",
    "        hand_card_face = hand_card.partition('-')[2]\n",
    "        self.hand_card_face = hand_card_face\n",
    "        hand_card_value = self.face_value[hand_card_face]\n",
    "        self.hand_card_value = hand_card_value\n",
    "        \n",
    "    def add_to_hand(self, handlist):\n",
    "        handlist.append(self.hand_card)\n",
    "        return handlist\n",
    "    \n",
    "    def value_of_hand(self,card):\n",
    "        hand_card_face = card.partition('-')[2]\n",
    "        self.hand_card_face = hand_card_face\n",
    "        hand_card_value = self.face_value[hand_card_face]\n",
    "        self.hand_card_value = hand_card_value\n",
    "        return self.hand_card_value\n",
    "        \n",
    "    def adjust_for_ace(self, opt):\n",
    "        if self.hand_card_face == 'ACE' and opt == '1':\n",
    "            self.hand_card_value = 1\n",
    "        elif hand_card_face == 'ACE' and opt == '10':\n",
    "            self.hand_card_value = 10\n",
    "        else:\n",
    "            self.hand_card_value = 0\n",
    "    \n",
    "        "
   ]
  },
  {
   "cell_type": "code",
   "execution_count": 10,
   "metadata": {},
   "outputs": [],
   "source": [
    "## Chips class to hold information about chips and bet"
   ]
  },
  {
   "cell_type": "code",
   "execution_count": 11,
   "metadata": {},
   "outputs": [],
   "source": [
    "class Chips():\n",
    "    \n",
    "    def __init__(self):\n",
    "        self.total_chips = 100\n",
    "        self.bet_chips = 0\n",
    "        \n",
    "    def bet(self, amount):\n",
    "        self.bet_chips = amount\n",
    "        self.total_chips = self.total_chips - amount\n",
    "        self.amount = amount\n",
    "        \n",
    "    def bet_win(self):   \n",
    "        self.total_chips = self.total_chips + 2*(self.amount)\n",
    "        return self.total_chips\n",
    "        \n",
    "    def bet_lose(self):\n",
    "        return self.total_chips\n",
    "        "
   ]
  },
  {
   "cell_type": "code",
   "execution_count": 12,
   "metadata": {},
   "outputs": [],
   "source": [
    "def dealer_wins(dealer_l, player_l):\n",
    "    print('Dealer wins')\n",
    "    "
   ]
  },
  {
   "cell_type": "code",
   "execution_count": 13,
   "metadata": {},
   "outputs": [],
   "source": [
    "def dealer_busts():\n",
    "    print('Dealter busts')"
   ]
  },
  {
   "cell_type": "code",
   "execution_count": 14,
   "metadata": {},
   "outputs": [],
   "source": [
    "def palyer_wins():\n",
    "    print('Player wins')"
   ]
  },
  {
   "cell_type": "code",
   "execution_count": 15,
   "metadata": {},
   "outputs": [],
   "source": [
    "def player_busts():\n",
    "    print('Player busts')"
   ]
  },
  {
   "cell_type": "code",
   "execution_count": 16,
   "metadata": {},
   "outputs": [],
   "source": [
    "def hit(user, user_obj):\n",
    "    h_player.__init__()\n",
    "    h_player.add_to_hand(player_hand)\n",
    "    for i in range(len(player_hand)):\n",
    "        print(player_hand[i])\n",
    "        print(h_player.value_of_hand(player_hand[i]))\n",
    "        if h_player.value_of_hand(player_hand[i]) == 'ACE':\n",
    "\n",
    "            option = int(input('you want to take 1 or 10'))\n",
    "            h_player.adjust_for_ace(option)\n",
    "            player_total = player_total + int(h_player.adjust_for_ace(option))\n",
    "        else :                      \n",
    "            player_total = player_total + int(h_player.value_of_hand(player_hand[i]))"
   ]
  },
  {
   "cell_type": "code",
   "execution_count": null,
   "metadata": {},
   "outputs": [],
   "source": []
  },
  {
   "cell_type": "code",
   "execution_count": 17,
   "metadata": {},
   "outputs": [],
   "source": [
    "## Let's start the main calling program that will start the play"
   ]
  },
  {
   "cell_type": "code",
   "execution_count": null,
   "metadata": {},
   "outputs": [
    {
     "name": "stdout",
     "output_type": "stream",
     "text": [
      "Game Started!!!\n",
      "Hello Dude! You have 100 dollars\n"
     ]
    }
   ],
   "source": [
    "while True:\n",
    "    print('Game Started!!!')\n",
    "    d = Deck()\n",
    "    d.shuffle()\n",
    "    \n",
    "    c = Chips()\n",
    "    print(f'Hello Dude! You have {c.total_chips} dollars')\n",
    "    amt = int(input('How much you want to bet'))\n",
    "    c.bet(amt)\n",
    "    \n",
    "    dealer_hand = []\n",
    "    player_hand = []\n",
    "    \n",
    "    h_dealer = Hand()\n",
    "    h_dealer.__init__()\n",
    "    h_dealer.add_to_hand(dealer_hand)\n",
    "    h_dealer.__init__()\n",
    "    h_dealer.add_to_hand(dealer_hand)\n",
    "    \n",
    "    h_player = Hand()\n",
    "    h_player.__init__()\n",
    "    h_player.add_to_hand(player_hand)\n",
    "    h_player.__init__()\n",
    "    h_player.add_to_hand(player_hand)\n",
    "    \n",
    "    print(dealer_hand)\n",
    "    print(player_hand)\n",
    "    \n",
    "    Playing = True\n",
    "    player_total = 0\n",
    "    dealer_total = 0\n",
    "    \n",
    "    while Playing:\n",
    "        hit_stand = str(input('Player, You want to hit or stand '))\n",
    "        if hit_stand == 'hit':\n",
    "            hit(h_player, player_hand) # Basically add everything in this function.\n",
    "            h_player.__init__()\n",
    "            h_player.add_to_hand(player_hand)\n",
    "            for i in range(len(player_hand)):\n",
    "                print(player_hand[i])\n",
    "                print(h_player.value_of_hand(player_hand[i]))\n",
    "                if h_player.value_of_hand(player_hand[i]) == 'ACE':\n",
    "                    \n",
    "                    option = int(input('you want to take 1 or 10'))\n",
    "                    h_player.adjust_for_ace(option)\n",
    "                    player_total = player_total + int(h_player.adjust_for_ace(option))\n",
    "                else :                      \n",
    "                    player_total = player_total + int(h_player.value_of_hand(player_hand[i]))\n",
    "\n",
    "            print(player_total)\n",
    "            if player_total >= 21:\n",
    "                player_busts()\n",
    "            elif player_total < 21:\n",
    "                hit_stand = str(input('Dealer, You want to hit or stand '))\n",
    "                if hit_stand == 'hit':\n",
    "                    h_dealer.__init__()\n",
    "                    h_dealer.add_to_hand(dealer_hand)\n",
    "                    for i in range(len(dealer_hand)):\n",
    "                        print(dealer_hand[i])\n",
    "                        print(h_dealer.value_of_hand(dealer_hand[i]))\n",
    "                        if h_dealer.value_of_hand(dealer_hand[i]) == 'ACE':\n",
    "\n",
    "                            option = int(input('you want to take 1 or 10'))\n",
    "                            h_dealer.adjust_for_ace(option)\n",
    "                            dealer_total = player_total + int(h_dealer.adjust_for_ace(option))\n",
    "                        else :                      \n",
    "                            dealer_total = player_total + int(h_dealer.value_of_hand(dealer_hand[i]))\n",
    "                \n",
    "                \n",
    "            \n",
    "        else:\n",
    "            break\n",
    "            \n",
    "    \n",
    "    print('Do you want to play Again?')\n",
    "    wish = input('Yes or No :')\n",
    "    if wish == 'Yes':\n",
    "        print('OK! lets play again')\n",
    "        continue\n",
    "    else:\n",
    "        print('Thanks for playing! See you next time..')\n",
    "        break\n",
    "        "
   ]
  },
  {
   "cell_type": "code",
   "execution_count": null,
   "metadata": {},
   "outputs": [],
   "source": []
  }
 ],
 "metadata": {
  "kernelspec": {
   "display_name": "Python 3",
   "language": "python",
   "name": "python3"
  },
  "language_info": {
   "codemirror_mode": {
    "name": "ipython",
    "version": 3
   },
   "file_extension": ".py",
   "mimetype": "text/x-python",
   "name": "python",
   "nbconvert_exporter": "python",
   "pygments_lexer": "ipython3",
   "version": "3.7.4"
  }
 },
 "nbformat": 4,
 "nbformat_minor": 2
}
